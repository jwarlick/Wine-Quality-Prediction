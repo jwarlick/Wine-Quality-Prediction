{
 "cells": [
  {
   "cell_type": "markdown",
   "metadata": {},
   "source": [
    "# Machine Learning Classification Project: Wine Quality Prediction\n",
    "## Decision Trees, Random Forests, Feature Transformations & Scaling\n",
    "\n",
    "In this project, I used a decision tree as well as a random forest for a classification task: classifiying the quality of a wine variant based on its measured qualities.\n",
    "The dataset used can be found below:\n",
    "\n",
    "https://www.kaggle.com/uciml/red-wine-quality-cortez-et-al-2009\n",
    "\n",
    "In this project, the **target variable** is **Quality**, which after some adjustment, will take on two classes: good, or bad.\n",
    "\n",
    "The predictors used are all continuous variables: <br>\n",
    "_Fixed acidity_, _volatile acidity_, _citric acid_, _residual sugar_, _chlorides_, _free sulfur dioxide_, _total sulfur dioxide_, _density_, _pH_, _sulphates_ and _alcohol_."
   ]
  },
  {
   "cell_type": "code",
   "execution_count": 2,
   "metadata": {},
   "outputs": [],
   "source": [
    "from matplotlib import pyplot as plt\n",
    "import numpy as np\n",
    "import pandas as pd"
   ]
  },
  {
   "cell_type": "code",
   "execution_count": 3,
   "metadata": {},
   "outputs": [],
   "source": [
    "data = pd.read_csv('winequality-red.csv')"
   ]
  },
  {
   "cell_type": "code",
   "execution_count": 6,
   "metadata": {},
   "outputs": [
    {
     "data": {
      "text/html": [
       "<div>\n",
       "<style scoped>\n",
       "    .dataframe tbody tr th:only-of-type {\n",
       "        vertical-align: middle;\n",
       "    }\n",
       "\n",
       "    .dataframe tbody tr th {\n",
       "        vertical-align: top;\n",
       "    }\n",
       "\n",
       "    .dataframe thead th {\n",
       "        text-align: right;\n",
       "    }\n",
       "</style>\n",
       "<table border=\"1\" class=\"dataframe\">\n",
       "  <thead>\n",
       "    <tr style=\"text-align: right;\">\n",
       "      <th></th>\n",
       "      <th>fixed acidity</th>\n",
       "      <th>volatile acidity</th>\n",
       "      <th>citric acid</th>\n",
       "      <th>residual sugar</th>\n",
       "      <th>chlorides</th>\n",
       "      <th>free sulfur dioxide</th>\n",
       "      <th>total sulfur dioxide</th>\n",
       "      <th>density</th>\n",
       "      <th>pH</th>\n",
       "      <th>sulphates</th>\n",
       "      <th>alcohol</th>\n",
       "      <th>quality</th>\n",
       "    </tr>\n",
       "  </thead>\n",
       "  <tbody>\n",
       "    <tr>\n",
       "      <th>count</th>\n",
       "      <td>1599.000000</td>\n",
       "      <td>1599.000000</td>\n",
       "      <td>1599.000000</td>\n",
       "      <td>1599.000000</td>\n",
       "      <td>1599.000000</td>\n",
       "      <td>1599.000000</td>\n",
       "      <td>1599.000000</td>\n",
       "      <td>1599.000000</td>\n",
       "      <td>1599.000000</td>\n",
       "      <td>1599.000000</td>\n",
       "      <td>1599.000000</td>\n",
       "      <td>1599.000000</td>\n",
       "    </tr>\n",
       "    <tr>\n",
       "      <th>mean</th>\n",
       "      <td>8.319637</td>\n",
       "      <td>0.527821</td>\n",
       "      <td>0.270976</td>\n",
       "      <td>2.538806</td>\n",
       "      <td>0.087467</td>\n",
       "      <td>15.874922</td>\n",
       "      <td>46.467792</td>\n",
       "      <td>0.996747</td>\n",
       "      <td>3.311113</td>\n",
       "      <td>0.658149</td>\n",
       "      <td>10.422983</td>\n",
       "      <td>5.636023</td>\n",
       "    </tr>\n",
       "    <tr>\n",
       "      <th>std</th>\n",
       "      <td>1.741096</td>\n",
       "      <td>0.179060</td>\n",
       "      <td>0.194801</td>\n",
       "      <td>1.409928</td>\n",
       "      <td>0.047065</td>\n",
       "      <td>10.460157</td>\n",
       "      <td>32.895324</td>\n",
       "      <td>0.001887</td>\n",
       "      <td>0.154386</td>\n",
       "      <td>0.169507</td>\n",
       "      <td>1.065668</td>\n",
       "      <td>0.807569</td>\n",
       "    </tr>\n",
       "    <tr>\n",
       "      <th>min</th>\n",
       "      <td>4.600000</td>\n",
       "      <td>0.120000</td>\n",
       "      <td>0.000000</td>\n",
       "      <td>0.900000</td>\n",
       "      <td>0.012000</td>\n",
       "      <td>1.000000</td>\n",
       "      <td>6.000000</td>\n",
       "      <td>0.990070</td>\n",
       "      <td>2.740000</td>\n",
       "      <td>0.330000</td>\n",
       "      <td>8.400000</td>\n",
       "      <td>3.000000</td>\n",
       "    </tr>\n",
       "    <tr>\n",
       "      <th>25%</th>\n",
       "      <td>7.100000</td>\n",
       "      <td>0.390000</td>\n",
       "      <td>0.090000</td>\n",
       "      <td>1.900000</td>\n",
       "      <td>0.070000</td>\n",
       "      <td>7.000000</td>\n",
       "      <td>22.000000</td>\n",
       "      <td>0.995600</td>\n",
       "      <td>3.210000</td>\n",
       "      <td>0.550000</td>\n",
       "      <td>9.500000</td>\n",
       "      <td>5.000000</td>\n",
       "    </tr>\n",
       "    <tr>\n",
       "      <th>50%</th>\n",
       "      <td>7.900000</td>\n",
       "      <td>0.520000</td>\n",
       "      <td>0.260000</td>\n",
       "      <td>2.200000</td>\n",
       "      <td>0.079000</td>\n",
       "      <td>14.000000</td>\n",
       "      <td>38.000000</td>\n",
       "      <td>0.996750</td>\n",
       "      <td>3.310000</td>\n",
       "      <td>0.620000</td>\n",
       "      <td>10.200000</td>\n",
       "      <td>6.000000</td>\n",
       "    </tr>\n",
       "    <tr>\n",
       "      <th>75%</th>\n",
       "      <td>9.200000</td>\n",
       "      <td>0.640000</td>\n",
       "      <td>0.420000</td>\n",
       "      <td>2.600000</td>\n",
       "      <td>0.090000</td>\n",
       "      <td>21.000000</td>\n",
       "      <td>62.000000</td>\n",
       "      <td>0.997835</td>\n",
       "      <td>3.400000</td>\n",
       "      <td>0.730000</td>\n",
       "      <td>11.100000</td>\n",
       "      <td>6.000000</td>\n",
       "    </tr>\n",
       "    <tr>\n",
       "      <th>max</th>\n",
       "      <td>15.900000</td>\n",
       "      <td>1.580000</td>\n",
       "      <td>1.000000</td>\n",
       "      <td>15.500000</td>\n",
       "      <td>0.611000</td>\n",
       "      <td>72.000000</td>\n",
       "      <td>289.000000</td>\n",
       "      <td>1.003690</td>\n",
       "      <td>4.010000</td>\n",
       "      <td>2.000000</td>\n",
       "      <td>14.900000</td>\n",
       "      <td>8.000000</td>\n",
       "    </tr>\n",
       "  </tbody>\n",
       "</table>\n",
       "</div>"
      ],
      "text/plain": [
       "       fixed acidity  volatile acidity  citric acid  residual sugar  \\\n",
       "count    1599.000000       1599.000000  1599.000000     1599.000000   \n",
       "mean        8.319637          0.527821     0.270976        2.538806   \n",
       "std         1.741096          0.179060     0.194801        1.409928   \n",
       "min         4.600000          0.120000     0.000000        0.900000   \n",
       "25%         7.100000          0.390000     0.090000        1.900000   \n",
       "50%         7.900000          0.520000     0.260000        2.200000   \n",
       "75%         9.200000          0.640000     0.420000        2.600000   \n",
       "max        15.900000          1.580000     1.000000       15.500000   \n",
       "\n",
       "         chlorides  free sulfur dioxide  total sulfur dioxide      density  \\\n",
       "count  1599.000000          1599.000000           1599.000000  1599.000000   \n",
       "mean      0.087467            15.874922             46.467792     0.996747   \n",
       "std       0.047065            10.460157             32.895324     0.001887   \n",
       "min       0.012000             1.000000              6.000000     0.990070   \n",
       "25%       0.070000             7.000000             22.000000     0.995600   \n",
       "50%       0.079000            14.000000             38.000000     0.996750   \n",
       "75%       0.090000            21.000000             62.000000     0.997835   \n",
       "max       0.611000            72.000000            289.000000     1.003690   \n",
       "\n",
       "                pH    sulphates      alcohol      quality  \n",
       "count  1599.000000  1599.000000  1599.000000  1599.000000  \n",
       "mean      3.311113     0.658149    10.422983     5.636023  \n",
       "std       0.154386     0.169507     1.065668     0.807569  \n",
       "min       2.740000     0.330000     8.400000     3.000000  \n",
       "25%       3.210000     0.550000     9.500000     5.000000  \n",
       "50%       3.310000     0.620000    10.200000     6.000000  \n",
       "75%       3.400000     0.730000    11.100000     6.000000  \n",
       "max       4.010000     2.000000    14.900000     8.000000  "
      ]
     },
     "execution_count": 6,
     "metadata": {},
     "output_type": "execute_result"
    }
   ],
   "source": [
    "data.describe()"
   ]
  },
  {
   "cell_type": "markdown",
   "metadata": {},
   "source": [
    "Because our target variable in the unadjusted data is numerical - ranging from 3 to 8 - we will change it to a categorical variable for the purpose of this project. <br>\n",
    "If the wine's quality is a 6 or higher (above the average for the wines in this dataset), it will be considered 'good'; otherwise, it will be considered 'bad'."
   ]
  },
  {
   "cell_type": "code",
   "execution_count": 7,
   "metadata": {},
   "outputs": [],
   "source": [
    "# Map continuous target variable to categorical variable\n",
    "winemap = {3:'bad', 4:'bad', 5:'bad', 6:'good', 7:'good', 8:'good'}\n",
    "data['quality'] = data['quality'].map(winemap)"
   ]
  },
  {
   "cell_type": "code",
   "execution_count": 13,
   "metadata": {},
   "outputs": [
    {
     "name": "stdout",
     "output_type": "stream",
     "text": [
      "(1200, 12)\n",
      "(399, 11)\n"
     ]
    }
   ],
   "source": [
    "# Divide data into training data and test data\n",
    "wine_tr = data.iloc[0:1200,:]\n",
    "X_test = data.iloc[1200:, 0:-1]\n",
    "y_test = data.iloc[1200:, -1]\n",
    "\n",
    "print(wine_tr.shape)\n",
    "print(X_test.shape)"
   ]
  },
  {
   "cell_type": "code",
   "execution_count": 14,
   "metadata": {},
   "outputs": [
    {
     "name": "stdout",
     "output_type": "stream",
     "text": [
      "(1200, 11)\n",
      "(1200,)\n"
     ]
    }
   ],
   "source": [
    "# Split data into X and y\n",
    "X = wine_tr.loc[:, wine_tr.columns != 'quality']\n",
    "y = wine_tr.loc[:, 'quality']\n",
    "\n",
    "print(X.shape)\n",
    "print(y.shape)"
   ]
  },
  {
   "cell_type": "markdown",
   "metadata": {},
   "source": [
    "#### Feature Transformation"
   ]
  },
  {
   "cell_type": "markdown",
   "metadata": {},
   "source": [
    "Although tree-based methods are not nearly as sensitive to feature distributions as regression-based methods, it is generally good practice to make sure all features in a predictive model follow a generally normal distribution. <br>\n",
    "We can first examine the original feature distributions in this data, and then based on their skew, we can transform features as needed."
   ]
  },
  {
   "cell_type": "code",
   "execution_count": 15,
   "metadata": {},
   "outputs": [
    {
     "data": {
      "image/png": "[encoded data removed]",
      "text/plain": [
       "<Figure size 1000x700 with 12 Axes>"
      ]
     },
     "metadata": {
      "needs_background": "light"
     },
     "output_type": "display_data"
    }
   ],
   "source": [
    "%matplotlib inline\n",
    "\n",
    "fig, axes = plt.subplots(3, 4, figsize=(10, 7), dpi=100)\n",
    "\n",
    "colors = ['xkcd:crimson','xkcd:coral','xkcd:orange','xkcd:goldenrod','xkcd:chartreuse', \\\n",
    "          'xkcd:green','xkcd:aqua', 'xkcd:lightblue','xkcd:azure','xkcd:lavender',\\\n",
    "          'xkcd:purple']\n",
    "\n",
    "for ax, feat, col in zip(axes.flatten(), X.columns, colors):\n",
    "    x = X[feat]\n",
    "    ax.hist(x, alpha=0.8, bins=20, stacked=True,label=str(feat), color=col)\n",
    "    ax.set_title(feat.upper(), fontsize = 8)\n",
    "            \n",
    "plt.suptitle('Distributions of Original Features in Dataset', fontsize = 20,y=1.05)\n",
    "plt.tight_layout()\n",
    "\n",
    "plt.show()"
   ]
  },
  {
   "cell_type": "markdown",
   "metadata": {},
   "source": [
    "In the histograms above, one can see that most of the features are skewed. In fact, the only features whose histograms resemble a normal distribution are 'density' and 'pH'. The rest of the features appear to be right-skewed. <br>\n",
    "After some experimentation, it appears that a log transformation makes the distributions of most of the skewed features closer to normal. For the rest, a square root transformation does the job well."
   ]
  },
  {
   "cell_type": "code",
   "execution_count": 21,
   "metadata": {},
   "outputs": [
    {
     "name": "stdout",
     "output_type": "stream",
     "text": [
      "Log transformation : ['fixed acidity', 'free sulfur dioxide', 'residual sugar', 'total sulfur dioxide', 'volatile acidity', 'alcohol', 'citric acid']\n",
      "Cubic root transformation : ['chlorides', 'sulphates']\n"
     ]
    }
   ],
   "source": [
    "feats_norm = ['density','pH']\n",
    "feats_skewed_log = ['fixed acidity','free sulfur dioxide','residual sugar',\n",
    "                    'total sulfur dioxide','volatile acidity','alcohol','citric acid']\n",
    "feats_skewed_sqrt = [feat for feat in X.columns if feat not in feats_norm + feats_skewed_log]   \n",
    "feats_all = feats_norm + feats_skewed_log + feats_skewed_sqrt\n",
    "print(f'Log transformation : {feats_skewed_log}')\n",
    "print(f'Cubic root transformation : {feats_skewed_sqrt}')\n",
    "\n",
    "# Transform skewed features in training data\n",
    "feats_transformed_tr1 = X[feats_skewed_log].transform(lambda x: np.log(x+1))\n",
    "feats_transformed_tr2 = X[feats_skewed_sqrt].transform(lambda x: x**(1/3))\n",
    "\n",
    "# Transform skewed features in testing data\n",
    "feats_transformed_te1 = X_test[feats_skewed_log].transform(lambda x: np.log(x+1))\n",
    "feats_transformed_te2 = X_test[feats_skewed_sqrt].transform(lambda x: x**(1/3))\n",
    "\n",
    "\n",
    "# Join transformed data\n",
    "feats_transformed_tr = pd.concat([X[feats_norm], feats_transformed_tr1, feats_transformed_tr2], axis=1, sort=False)\n",
    "feats_transformed_te = pd.concat([X_test[feats_norm], feats_transformed_te1, feats_transformed_te2], axis=1, sort=False)"
   ]
  },
  {
   "cell_type": "code",
   "execution_count": 22,
   "metadata": {},
   "outputs": [
    {
     "data": {
      "text/html": [
       "<div>\n",
       "<style scoped>\n",
       "    .dataframe tbody tr th:only-of-type {\n",
       "        vertical-align: middle;\n",
       "    }\n",
       "\n",
       "    .dataframe tbody tr th {\n",
       "        vertical-align: top;\n",
       "    }\n",
       "\n",
       "    .dataframe thead th {\n",
       "        text-align: right;\n",
       "    }\n",
       "</style>\n",
       "<table border=\"1\" class=\"dataframe\">\n",
       "  <thead>\n",
       "    <tr style=\"text-align: right;\">\n",
       "      <th></th>\n",
       "      <th>density</th>\n",
       "      <th>pH</th>\n",
       "      <th>fixed acidity</th>\n",
       "      <th>free sulfur dioxide</th>\n",
       "      <th>residual sugar</th>\n",
       "      <th>total sulfur dioxide</th>\n",
       "      <th>volatile acidity</th>\n",
       "      <th>alcohol</th>\n",
       "      <th>citric acid</th>\n",
       "      <th>chlorides</th>\n",
       "      <th>sulphates</th>\n",
       "    </tr>\n",
       "  </thead>\n",
       "  <tbody>\n",
       "    <tr>\n",
       "      <th>1200</th>\n",
       "      <td>0.99458</td>\n",
       "      <td>3.16</td>\n",
       "      <td>2.163323</td>\n",
       "      <td>1.609438</td>\n",
       "      <td>0.916291</td>\n",
       "      <td>2.302585</td>\n",
       "      <td>0.451076</td>\n",
       "      <td>2.379546</td>\n",
       "      <td>0.190620</td>\n",
       "      <td>0.410157</td>\n",
       "      <td>0.814325</td>\n",
       "    </tr>\n",
       "    <tr>\n",
       "      <th>1201</th>\n",
       "      <td>0.99419</td>\n",
       "      <td>3.27</td>\n",
       "      <td>2.186051</td>\n",
       "      <td>1.791759</td>\n",
       "      <td>1.064711</td>\n",
       "      <td>2.397895</td>\n",
       "      <td>0.292670</td>\n",
       "      <td>2.501436</td>\n",
       "      <td>0.307485</td>\n",
       "      <td>0.402073</td>\n",
       "      <td>0.814325</td>\n",
       "    </tr>\n",
       "    <tr>\n",
       "      <th>1202</th>\n",
       "      <td>0.99516</td>\n",
       "      <td>3.35</td>\n",
       "      <td>2.261763</td>\n",
       "      <td>1.945910</td>\n",
       "      <td>1.029619</td>\n",
       "      <td>2.564949</td>\n",
       "      <td>0.350657</td>\n",
       "      <td>2.541602</td>\n",
       "      <td>0.329304</td>\n",
       "      <td>0.408166</td>\n",
       "      <td>0.883656</td>\n",
       "    </tr>\n",
       "    <tr>\n",
       "      <th>1203</th>\n",
       "      <td>0.99878</td>\n",
       "      <td>3.14</td>\n",
       "      <td>2.388763</td>\n",
       "      <td>3.526361</td>\n",
       "      <td>1.916923</td>\n",
       "      <td>4.343805</td>\n",
       "      <td>0.553885</td>\n",
       "      <td>2.341806</td>\n",
       "      <td>0.173953</td>\n",
       "      <td>0.480590</td>\n",
       "      <td>0.819321</td>\n",
       "    </tr>\n",
       "    <tr>\n",
       "      <th>1204</th>\n",
       "      <td>0.99534</td>\n",
       "      <td>3.40</td>\n",
       "      <td>2.104134</td>\n",
       "      <td>3.218876</td>\n",
       "      <td>1.131402</td>\n",
       "      <td>3.806662</td>\n",
       "      <td>0.307485</td>\n",
       "      <td>2.484907</td>\n",
       "      <td>0.378436</td>\n",
       "      <td>0.419834</td>\n",
       "      <td>0.947268</td>\n",
       "    </tr>\n",
       "    <tr>\n",
       "      <th>...</th>\n",
       "      <td>...</td>\n",
       "      <td>...</td>\n",
       "      <td>...</td>\n",
       "      <td>...</td>\n",
       "      <td>...</td>\n",
       "      <td>...</td>\n",
       "      <td>...</td>\n",
       "      <td>...</td>\n",
       "      <td>...</td>\n",
       "      <td>...</td>\n",
       "      <td>...</td>\n",
       "    </tr>\n",
       "    <tr>\n",
       "      <th>1594</th>\n",
       "      <td>0.99490</td>\n",
       "      <td>3.45</td>\n",
       "      <td>1.974081</td>\n",
       "      <td>3.496508</td>\n",
       "      <td>1.098612</td>\n",
       "      <td>3.806662</td>\n",
       "      <td>0.470004</td>\n",
       "      <td>2.442347</td>\n",
       "      <td>0.076961</td>\n",
       "      <td>0.448140</td>\n",
       "      <td>0.833955</td>\n",
       "    </tr>\n",
       "    <tr>\n",
       "      <th>1595</th>\n",
       "      <td>0.99512</td>\n",
       "      <td>3.52</td>\n",
       "      <td>1.931521</td>\n",
       "      <td>3.688879</td>\n",
       "      <td>1.163151</td>\n",
       "      <td>3.951244</td>\n",
       "      <td>0.438255</td>\n",
       "      <td>2.501436</td>\n",
       "      <td>0.095310</td>\n",
       "      <td>0.395789</td>\n",
       "      <td>0.912581</td>\n",
       "    </tr>\n",
       "    <tr>\n",
       "      <th>1596</th>\n",
       "      <td>0.99574</td>\n",
       "      <td>3.42</td>\n",
       "      <td>1.987874</td>\n",
       "      <td>3.401197</td>\n",
       "      <td>1.193922</td>\n",
       "      <td>3.713572</td>\n",
       "      <td>0.412110</td>\n",
       "      <td>2.484907</td>\n",
       "      <td>0.122218</td>\n",
       "      <td>0.423582</td>\n",
       "      <td>0.908560</td>\n",
       "    </tr>\n",
       "    <tr>\n",
       "      <th>1597</th>\n",
       "      <td>0.99547</td>\n",
       "      <td>3.57</td>\n",
       "      <td>1.931521</td>\n",
       "      <td>3.496508</td>\n",
       "      <td>1.098612</td>\n",
       "      <td>3.806662</td>\n",
       "      <td>0.497740</td>\n",
       "      <td>2.415914</td>\n",
       "      <td>0.113329</td>\n",
       "      <td>0.421716</td>\n",
       "      <td>0.892112</td>\n",
       "    </tr>\n",
       "    <tr>\n",
       "      <th>1598</th>\n",
       "      <td>0.99549</td>\n",
       "      <td>3.39</td>\n",
       "      <td>1.945910</td>\n",
       "      <td>2.944439</td>\n",
       "      <td>1.526056</td>\n",
       "      <td>3.761200</td>\n",
       "      <td>0.270027</td>\n",
       "      <td>2.484907</td>\n",
       "      <td>0.385262</td>\n",
       "      <td>0.406155</td>\n",
       "      <td>0.870659</td>\n",
       "    </tr>\n",
       "  </tbody>\n",
       "</table>\n",
       "<p>399 rows × 11 columns</p>\n",
       "</div>"
      ],
      "text/plain": [
       "      density    pH  fixed acidity  free sulfur dioxide  residual sugar  \\\n",
       "1200  0.99458  3.16       2.163323             1.609438        0.916291   \n",
       "1201  0.99419  3.27       2.186051             1.791759        1.064711   \n",
       "1202  0.99516  3.35       2.261763             1.945910        1.029619   \n",
       "1203  0.99878  3.14       2.388763             3.526361        1.916923   \n",
       "1204  0.99534  3.40       2.104134             3.218876        1.131402   \n",
       "...       ...   ...            ...                  ...             ...   \n",
       "1594  0.99490  3.45       1.974081             3.496508        1.098612   \n",
       "1595  0.99512  3.52       1.931521             3.688879        1.163151   \n",
       "1596  0.99574  3.42       1.987874             3.401197        1.193922   \n",
       "1597  0.99547  3.57       1.931521             3.496508        1.098612   \n",
       "1598  0.99549  3.39       1.945910             2.944439        1.526056   \n",
       "\n",
       "      total sulfur dioxide  volatile acidity   alcohol  citric acid  \\\n",
       "1200              2.302585          0.451076  2.379546     0.190620   \n",
       "1201              2.397895          0.292670  2.501436     0.307485   \n",
       "1202              2.564949          0.350657  2.541602     0.329304   \n",
       "1203              4.343805          0.553885  2.341806     0.173953   \n",
       "1204              3.806662          0.307485  2.484907     0.378436   \n",
       "...                    ...               ...       ...          ...   \n",
       "1594              3.806662          0.470004  2.442347     0.076961   \n",
       "1595              3.951244          0.438255  2.501436     0.095310   \n",
       "1596              3.713572          0.412110  2.484907     0.122218   \n",
       "1597              3.806662          0.497740  2.415914     0.113329   \n",
       "1598              3.761200          0.270027  2.484907     0.385262   \n",
       "\n",
       "      chlorides  sulphates  \n",
       "1200   0.410157   0.814325  \n",
       "1201   0.402073   0.814325  \n",
       "1202   0.408166   0.883656  \n",
       "1203   0.480590   0.819321  \n",
       "1204   0.419834   0.947268  \n",
       "...         ...        ...  \n",
       "1594   0.448140   0.833955  \n",
       "1595   0.395789   0.912581  \n",
       "1596   0.423582   0.908560  \n",
       "1597   0.421716   0.892112  \n",
       "1598   0.406155   0.870659  \n",
       "\n",
       "[399 rows x 11 columns]"
      ]
     },
     "execution_count": 22,
     "metadata": {},
     "output_type": "execute_result"
    }
   ],
   "source": [
    "feats_transformed_te"
   ]
  },
  {
   "cell_type": "code",
   "execution_count": 23,
   "metadata": {},
   "outputs": [
    {
     "data": {
      "image/png": "[encoded data removed]",
      "text/plain": [
       "<Figure size 1000x700 with 12 Axes>"
      ]
     },
     "metadata": {
      "needs_background": "light"
     },
     "output_type": "display_data"
    }
   ],
   "source": [
    "fig, axes = plt.subplots(3, 4, figsize=(10, 7), dpi=100)\n",
    "\n",
    "colors = ['xkcd:crimson','xkcd:coral','xkcd:orange','xkcd:goldenrod','xkcd:chartreuse', \\\n",
    "          'xkcd:green','xkcd:aqua', 'xkcd:lightblue','xkcd:azure','xkcd:lavender',\\\n",
    "          'xkcd:purple']\n",
    "\n",
    "for ax, feat, col in zip(axes.flatten(), X.columns, colors):\n",
    "    x = feats_transformed_tr[feat]\n",
    "    ax.hist(x, alpha=0.8, bins=20, stacked=True,label=str(feat), color=col)\n",
    "    ax.set_title(feat.upper(), fontsize = 8)\n",
    "            \n",
    "plt.suptitle('Distributions of Transformed Features in Training Data', fontsize = 20, y=1.05)\n",
    "plt.tight_layout()\n",
    "\n",
    "plt.show()"
   ]
  },
  {
   "cell_type": "markdown",
   "metadata": {},
   "source": [
    "The transformations aren't _perfect_ -- there is still abnormality and some skew in some of these features -- but overall, the distributions are closer to normal than before."
   ]
  },
  {
   "cell_type": "markdown",
   "metadata": {},
   "source": [
    "Next, we can scale these features so that the absolute scale of each feature's values is the same. Again, this is not completely necessary for tree-based models, but is good practice."
   ]
  },
  {
   "cell_type": "code",
   "execution_count": 24,
   "metadata": {},
   "outputs": [
    {
     "name": "stdout",
     "output_type": "stream",
     "text": [
      "(1200, 11)\n",
      "(399, 11)\n"
     ]
    },
    {
     "data": {
      "text/html": [
       "<div>\n",
       "<style scoped>\n",
       "    .dataframe tbody tr th:only-of-type {\n",
       "        vertical-align: middle;\n",
       "    }\n",
       "\n",
       "    .dataframe tbody tr th {\n",
       "        vertical-align: top;\n",
       "    }\n",
       "\n",
       "    .dataframe thead th {\n",
       "        text-align: right;\n",
       "    }\n",
       "</style>\n",
       "<table border=\"1\" class=\"dataframe\">\n",
       "  <thead>\n",
       "    <tr style=\"text-align: right;\">\n",
       "      <th></th>\n",
       "      <th>density</th>\n",
       "      <th>pH</th>\n",
       "      <th>fixed acidity</th>\n",
       "      <th>free sulfur dioxide</th>\n",
       "      <th>residual sugar</th>\n",
       "      <th>total sulfur dioxide</th>\n",
       "      <th>volatile acidity</th>\n",
       "      <th>alcohol</th>\n",
       "      <th>citric acid</th>\n",
       "      <th>chlorides</th>\n",
       "      <th>sulphates</th>\n",
       "    </tr>\n",
       "  </thead>\n",
       "  <tbody>\n",
       "    <tr>\n",
       "      <th>0</th>\n",
       "      <td>0.395190</td>\n",
       "      <td>1.355270</td>\n",
       "      <td>-0.672241</td>\n",
       "      <td>-0.182906</td>\n",
       "      <td>-0.632573</td>\n",
       "      <td>-0.115586</td>\n",
       "      <td>1.034410</td>\n",
       "      <td>-0.927527</td>\n",
       "      <td>-1.609682</td>\n",
       "      <td>-0.294848</td>\n",
       "      <td>-0.637957</td>\n",
       "    </tr>\n",
       "    <tr>\n",
       "      <th>1</th>\n",
       "      <td>-0.137716</td>\n",
       "      <td>-0.631256</td>\n",
       "      <td>-0.411388</td>\n",
       "      <td>1.056974</td>\n",
       "      <td>0.194566</td>\n",
       "      <td>0.840060</td>\n",
       "      <td>1.907946</td>\n",
       "      <td>-0.519887</td>\n",
       "      <td>-1.609682</td>\n",
       "      <td>0.397848</td>\n",
       "      <td>0.172368</td>\n",
       "    </tr>\n",
       "    <tr>\n",
       "      <th>2</th>\n",
       "      <td>-0.031135</td>\n",
       "      <td>-0.246767</td>\n",
       "      <td>-0.411388</td>\n",
       "      <td>0.278419</td>\n",
       "      <td>-0.138287</td>\n",
       "      <td>0.534766</td>\n",
       "      <td>1.335464</td>\n",
       "      <td>-0.519887</td>\n",
       "      <td>-1.352628</td>\n",
       "      <td>0.220188</td>\n",
       "      <td>-0.020650</td>\n",
       "    </tr>\n",
       "    <tr>\n",
       "      <th>3</th>\n",
       "      <td>0.501771</td>\n",
       "      <td>-0.887582</td>\n",
       "      <td>1.420434</td>\n",
       "      <td>0.467294</td>\n",
       "      <td>-0.632573</td>\n",
       "      <td>0.683749</td>\n",
       "      <td>-1.428556</td>\n",
       "      <td>-0.519887</td>\n",
       "      <td>1.304806</td>\n",
       "      <td>-0.329353</td>\n",
       "      <td>-0.495357</td>\n",
       "    </tr>\n",
       "    <tr>\n",
       "      <th>4</th>\n",
       "      <td>0.395190</td>\n",
       "      <td>1.355270</td>\n",
       "      <td>-0.672241</td>\n",
       "      <td>-0.182906</td>\n",
       "      <td>-0.632573</td>\n",
       "      <td>-0.115586</td>\n",
       "      <td>1.034410</td>\n",
       "      <td>-0.927527</td>\n",
       "      <td>-1.609682</td>\n",
       "      <td>-0.294848</td>\n",
       "      <td>-0.637957</td>\n",
       "    </tr>\n",
       "    <tr>\n",
       "      <th>...</th>\n",
       "      <td>...</td>\n",
       "      <td>...</td>\n",
       "      <td>...</td>\n",
       "      <td>...</td>\n",
       "      <td>...</td>\n",
       "      <td>...</td>\n",
       "      <td>...</td>\n",
       "      <td>...</td>\n",
       "      <td>...</td>\n",
       "      <td>...</td>\n",
       "      <td>...</td>\n",
       "    </tr>\n",
       "    <tr>\n",
       "      <th>1195</th>\n",
       "      <td>-0.388182</td>\n",
       "      <td>1.419351</td>\n",
       "      <td>-1.536613</td>\n",
       "      <td>0.789088</td>\n",
       "      <td>-0.766811</td>\n",
       "      <td>0.586160</td>\n",
       "      <td>-0.466742</td>\n",
       "      <td>-0.824166</td>\n",
       "      <td>-0.306406</td>\n",
       "      <td>-0.226736</td>\n",
       "      <td>-0.355997</td>\n",
       "    </tr>\n",
       "    <tr>\n",
       "      <th>1196</th>\n",
       "      <td>-0.105742</td>\n",
       "      <td>-0.567174</td>\n",
       "      <td>-0.348028</td>\n",
       "      <td>0.928618</td>\n",
       "      <td>-0.138287</td>\n",
       "      <td>1.321177</td>\n",
       "      <td>0.399041</td>\n",
       "      <td>-0.824166</td>\n",
       "      <td>-0.252903</td>\n",
       "      <td>-0.294848</td>\n",
       "      <td>-0.495357</td>\n",
       "    </tr>\n",
       "    <tr>\n",
       "      <th>1197</th>\n",
       "      <td>-1.320769</td>\n",
       "      <td>-0.887582</td>\n",
       "      <td>-0.475473</td>\n",
       "      <td>-1.586799</td>\n",
       "      <td>-1.200339</td>\n",
       "      <td>-1.918162</td>\n",
       "      <td>0.343933</td>\n",
       "      <td>-0.519887</td>\n",
       "      <td>-0.360349</td>\n",
       "      <td>-0.543104</td>\n",
       "      <td>-0.783995</td>\n",
       "    </tr>\n",
       "    <tr>\n",
       "      <th>1198</th>\n",
       "      <td>-1.043657</td>\n",
       "      <td>-0.951663</td>\n",
       "      <td>-0.475473</td>\n",
       "      <td>0.636249</td>\n",
       "      <td>-0.502886</td>\n",
       "      <td>1.037476</td>\n",
       "      <td>-1.565244</td>\n",
       "      <td>0.527743</td>\n",
       "      <td>-0.094967</td>\n",
       "      <td>-1.225522</td>\n",
       "      <td>0.835047</td>\n",
       "    </tr>\n",
       "    <tr>\n",
       "      <th>1199</th>\n",
       "      <td>-0.105742</td>\n",
       "      <td>-0.567174</td>\n",
       "      <td>-0.348028</td>\n",
       "      <td>0.928618</td>\n",
       "      <td>-0.138287</td>\n",
       "      <td>1.321177</td>\n",
       "      <td>0.399041</td>\n",
       "      <td>-0.824166</td>\n",
       "      <td>-0.252903</td>\n",
       "      <td>-0.294848</td>\n",
       "      <td>-0.495357</td>\n",
       "    </tr>\n",
       "  </tbody>\n",
       "</table>\n",
       "<p>1200 rows × 11 columns</p>\n",
       "</div>"
      ],
      "text/plain": [
       "       density        pH  fixed acidity  free sulfur dioxide  residual sugar  \\\n",
       "0     0.395190  1.355270      -0.672241            -0.182906       -0.632573   \n",
       "1    -0.137716 -0.631256      -0.411388             1.056974        0.194566   \n",
       "2    -0.031135 -0.246767      -0.411388             0.278419       -0.138287   \n",
       "3     0.501771 -0.887582       1.420434             0.467294       -0.632573   \n",
       "4     0.395190  1.355270      -0.672241            -0.182906       -0.632573   \n",
       "...        ...       ...            ...                  ...             ...   \n",
       "1195 -0.388182  1.419351      -1.536613             0.789088       -0.766811   \n",
       "1196 -0.105742 -0.567174      -0.348028             0.928618       -0.138287   \n",
       "1197 -1.320769 -0.887582      -0.475473            -1.586799       -1.200339   \n",
       "1198 -1.043657 -0.951663      -0.475473             0.636249       -0.502886   \n",
       "1199 -0.105742 -0.567174      -0.348028             0.928618       -0.138287   \n",
       "\n",
       "      total sulfur dioxide  volatile acidity   alcohol  citric acid  \\\n",
       "0                -0.115586          1.034410 -0.927527    -1.609682   \n",
       "1                 0.840060          1.907946 -0.519887    -1.609682   \n",
       "2                 0.534766          1.335464 -0.519887    -1.352628   \n",
       "3                 0.683749         -1.428556 -0.519887     1.304806   \n",
       "4                -0.115586          1.034410 -0.927527    -1.609682   \n",
       "...                    ...               ...       ...          ...   \n",
       "1195              0.586160         -0.466742 -0.824166    -0.306406   \n",
       "1196              1.321177          0.399041 -0.824166    -0.252903   \n",
       "1197             -1.918162          0.343933 -0.519887    -0.360349   \n",
       "1198              1.037476         -1.565244  0.527743    -0.094967   \n",
       "1199              1.321177          0.399041 -0.824166    -0.252903   \n",
       "\n",
       "      chlorides  sulphates  \n",
       "0     -0.294848  -0.637957  \n",
       "1      0.397848   0.172368  \n",
       "2      0.220188  -0.020650  \n",
       "3     -0.329353  -0.495357  \n",
       "4     -0.294848  -0.637957  \n",
       "...         ...        ...  \n",
       "1195  -0.226736  -0.355997  \n",
       "1196  -0.294848  -0.495357  \n",
       "1197  -0.543104  -0.783995  \n",
       "1198  -1.225522   0.835047  \n",
       "1199  -0.294848  -0.495357  \n",
       "\n",
       "[1200 rows x 11 columns]"
      ]
     },
     "execution_count": 24,
     "metadata": {},
     "output_type": "execute_result"
    }
   ],
   "source": [
    "from sklearn.preprocessing import StandardScaler\n",
    "\n",
    "# Initialize StandardScaler\n",
    "scaler = StandardScaler()\n",
    "\n",
    "# Fit StandardScaler to training data\n",
    "scaler.fit(feats_transformed_tr)\n",
    "\n",
    "# Standardize continuous features in training data\n",
    "X = pd.DataFrame(scaler.transform(feats_transformed_tr),index=feats_transformed_tr.index, columns=feats_all)\n",
    "\n",
    "# Standardize continuous features in testing data with same fit for consistency\n",
    "X_test = pd.DataFrame(scaler.transform(feats_transformed_te),index=feats_transformed_te.index, columns=feats_all)\n",
    "\n",
    "# Confirm DataFrames reconstructed correctly\n",
    "print(X.shape)\n",
    "print(X_test.shape)\n",
    "X"
   ]
  },
  {
   "cell_type": "code",
   "execution_count": 25,
   "metadata": {},
   "outputs": [],
   "source": [
    "# Split training data into training and validation sets\n",
    "X_train = X.iloc[:900,:]\n",
    "y_train = y.iloc[:900,]\n",
    "X_val = X.iloc[900:,:]\n",
    "y_val = y.iloc[900:,]"
   ]
  },
  {
   "cell_type": "markdown",
   "metadata": {},
   "source": [
    "#### Decision Tree"
   ]
  },
  {
   "cell_type": "markdown",
   "metadata": {},
   "source": [
    "First, we can check how well a single decision tree fares in this classification task."
   ]
  },
  {
   "cell_type": "code",
   "execution_count": 39,
   "metadata": {},
   "outputs": [
    {
     "data": {
      "text/plain": [
       "DecisionTreeClassifier(random_state=20)"
      ]
     },
     "execution_count": 39,
     "metadata": {},
     "output_type": "execute_result"
    }
   ],
   "source": [
    "from sklearn.tree import DecisionTreeClassifier\n",
    "\n",
    "# Train the tree on training data\n",
    "tree = DecisionTreeClassifier(random_state=20)\n",
    "tree.fit(X_train, y_train)"
   ]
  },
  {
   "cell_type": "markdown",
   "metadata": {},
   "source": [
    "Let's see how well the tree scores on the training data."
   ]
  },
  {
   "cell_type": "code",
   "execution_count": 40,
   "metadata": {},
   "outputs": [],
   "source": [
    "# Make predictions on the validation data\n",
    "y_pred_val = tree.predict(X_val)"
   ]
  },
  {
   "cell_type": "code",
   "execution_count": 41,
   "metadata": {},
   "outputs": [
    {
     "name": "stdout",
     "output_type": "stream",
     "text": [
      "The tree's accuracy score on the validation data is 67.33%\n",
      "The tree's precision score on the validation data is 79.80%\n",
      "The tree's recall score on the validation data is 73.97%\n"
     ]
    }
   ],
   "source": [
    "from sklearn.metrics import accuracy_score, precision_score, recall_score\n",
    "\n",
    "print(f\"The tree's accuracy score on the validation data is {accuracy_score(y_val, y_pred_val)*100:.2f}%\")\n",
    "print(f\"The tree's precision score on the validation data is {precision_score(y_val, y_pred_val, pos_label='good')*100:.2f}%\")\n",
    "print(f\"The tree's recall score on the validation data is {recall_score(y_val, y_pred_val, pos_label='good')*100:.2f}%\")"
   ]
  },
  {
   "cell_type": "code",
   "execution_count": 42,
   "metadata": {},
   "outputs": [
    {
     "name": "stdout",
     "output_type": "stream",
     "text": [
      "0.6167765939455436\n"
     ]
    },
    {
     "data": {
      "image/png": "[encoded data removed]",
      "text/plain": [
       "<Figure size 432x288 with 1 Axes>"
      ]
     },
     "metadata": {
      "needs_background": "light"
     },
     "output_type": "display_data"
    }
   ],
   "source": [
    "# ROC Curve for Decision Tree on validation data\n",
    "from sklearn.metrics import roc_curve\n",
    "import sklearn.metrics as metrics\n",
    "import matplotlib.pyplot as plt\n",
    "\n",
    "y_val_pred_proba = tree.predict_proba(X_val)[:,1]\n",
    "\n",
    "fpr, tpr, _ = roc_curve(y_val, y_val_pred_proba, pos_label=tree.classes_[1])\n",
    "roc_display = metrics.RocCurveDisplay(fpr=fpr, tpr=tpr).plot()\n",
    "plt.xlabel(\"False 'Good' Classification Rate\")\n",
    "plt.ylabel(\"True 'Good' Classification Rate\")\n",
    "plt.title(\"Decision Tree ROC\")\n",
    "\n",
    "roc_auc = metrics.auc(fpr, tpr)\n",
    "print(roc_auc)"
   ]
  },
  {
   "cell_type": "markdown",
   "metadata": {},
   "source": [
    "As one can see from the ROC above, the decision tree does not classify wines very well. The AUC is around .617, which is not far off from .5 (which would mean the model has no capacity to separate classes). <br>\n",
    "Although some tuning might be able to help this, it might be more practical to first try a random forest instead, and then tune that."
   ]
  },
  {
   "cell_type": "markdown",
   "metadata": {},
   "source": [
    "#### Random Forest"
   ]
  },
  {
   "cell_type": "code",
   "execution_count": 43,
   "metadata": {},
   "outputs": [
    {
     "data": {
      "text/plain": [
       "RandomForestClassifier(random_state=20)"
      ]
     },
     "execution_count": 43,
     "metadata": {},
     "output_type": "execute_result"
    }
   ],
   "source": [
    "from sklearn.ensemble import RandomForestClassifier\n",
    "\n",
    "# Fit Random Forest on training data\n",
    "forest = RandomForestClassifier(random_state=20)\n",
    "forest.fit(X_train, y_train)"
   ]
  },
  {
   "cell_type": "code",
   "execution_count": 44,
   "metadata": {},
   "outputs": [],
   "source": [
    "# Make predictions on the validation data\n",
    "y_pred_val = forest.predict(X_val)"
   ]
  },
  {
   "cell_type": "code",
   "execution_count": 45,
   "metadata": {},
   "outputs": [
    {
     "name": "stdout",
     "output_type": "stream",
     "text": [
      "The random forest's accuracy score on the validation data is 76.67%\n",
      "The random forest's precision score on the validation data is 82.82%\n",
      "The random forest's recall score on the validation data is 85.84%\n"
     ]
    }
   ],
   "source": [
    "print(f\"The random forest's accuracy score on the validation data is {accuracy_score(y_val, y_pred_val)*100:.2f}%\")\n",
    "print(f\"The random forest's precision score on the validation data is {precision_score(y_val, y_pred_val, pos_label='good')*100:.2f}%\")\n",
    "print(f\"The random forest's recall score on the validation data is {recall_score(y_val, y_pred_val, pos_label='good')*100:.2f}%\")"
   ]
  },
  {
   "cell_type": "code",
   "execution_count": 46,
   "metadata": {},
   "outputs": [
    {
     "name": "stdout",
     "output_type": "stream",
     "text": [
      "AUC value is 0.7895879136366198\n"
     ]
    },
    {
     "data": {
      "image/png": "[encoded data removed]",
      "text/plain": [
       "<Figure size 432x288 with 1 Axes>"
      ]
     },
     "metadata": {
      "needs_background": "light"
     },
     "output_type": "display_data"
    }
   ],
   "source": [
    "# ROC Curve for untuned Random Forest on validation data\n",
    "y_val_pred_proba = forest.predict_proba(X_val)[:,1]\n",
    "\n",
    "fpr, tpr, _ = roc_curve(y_val, y_val_pred_proba, pos_label=forest.classes_[1])\n",
    "roc_display = metrics.RocCurveDisplay(fpr=fpr, tpr=tpr).plot()\n",
    "plt.xlabel(\"False 'Good' Classification Rate\")\n",
    "plt.ylabel(\"True 'Good' Classification Rate\")\n",
    "plt.title(\"Random Forest ROC\")\n",
    "\n",
    "roc_auc = metrics.auc(fpr, tpr)\n",
    "print(f'AUC value is {roc_auc}')"
   ]
  },
  {
   "cell_type": "markdown",
   "metadata": {},
   "source": [
    "Already, one can see from the scoring metrics and ROC curve that the Random Forest is much better suited to this classification task than a single tree. The AUC is considerably better - around .79 as opposed to .61. <br>\n",
    "Of course, an ensemble of trees trained with randomized features and randomly bagged subsets of the training data is more effective at generalizing to unseen data than one decision tree alone."
   ]
  },
  {
   "cell_type": "markdown",
   "metadata": {},
   "source": [
    "#### Hyperparameter Tuning\n",
    "\n",
    "To make sure the random forest fits to the data optimally - neither overfitting to the training data nor underfitting - it's important to make sure that it has an optimal amount of trees, features in each tree, samples in each tree, etc. <br>\n",
    "It's much easier to investigate this using a GridSearch than trying different hyperparameter combinations manually."
   ]
  },
  {
   "cell_type": "code",
   "execution_count": 47,
   "metadata": {},
   "outputs": [],
   "source": [
    "from sklearn.model_selection import GridSearchCV"
   ]
  },
  {
   "cell_type": "code",
   "execution_count": 48,
   "metadata": {},
   "outputs": [],
   "source": [
    "# Paramater grid for GridSearch\n",
    "\n",
    "param_grid = {\n",
    "    'max_depth': [4,5,6,7,8,9,10],\n",
    "    'max_features': [3,4,5,6,7,8],\n",
    "    'min_samples_leaf': [.001,.005,.01,.05,.1,.15,.2],\n",
    "    'min_samples_split': [.01,.05,.1,.15,.2],\n",
    "    'n_estimators': [1, 2, 4, 10, 25, 50, 100, 150] \n",
    "}"
   ]
  },
  {
   "cell_type": "code",
   "execution_count": 49,
   "metadata": {},
   "outputs": [],
   "source": [
    "rf = RandomForestClassifier(random_state=20)"
   ]
  },
  {
   "cell_type": "code",
   "execution_count": 55,
   "metadata": {},
   "outputs": [],
   "source": [
    "from sklearn.model_selection import StratifiedKFold\n",
    "\n",
    "grid_search = GridSearchCV(estimator = rf, scoring='roc_auc', param_grid = param_grid, \n",
    "                          cv = StratifiedKFold(n_splits=3), n_jobs = -1, verbose = 2) "
   ]
  },
  {
   "cell_type": "code",
   "execution_count": 56,
   "metadata": {},
   "outputs": [
    {
     "name": "stdout",
     "output_type": "stream",
     "text": [
      "Fitting 3 folds for each of 11760 candidates, totalling 35280 fits\n"
     ]
    },
    {
     "data": {
      "text/plain": [
       "GridSearchCV(cv=StratifiedKFold(n_splits=3, random_state=None, shuffle=False),\n",
       "             estimator=RandomForestClassifier(random_state=20), n_jobs=-1,\n",
       "             param_grid={'max_depth': [4, 5, 6, 7, 8, 9, 10],\n",
       "                         'max_features': [3, 4, 5, 6, 7, 8],\n",
       "                         'min_samples_leaf': [0.001, 0.005, 0.01, 0.05, 0.1,\n",
       "                                              0.15, 0.2],\n",
       "                         'min_samples_split': [0.01, 0.05, 0.1, 0.15, 0.2],\n",
       "                         'n_estimators': [1, 2, 4, 10, 25, 50, 100, 150]},\n",
       "             scoring='roc_auc', verbose=2)"
      ]
     },
     "execution_count": 56,
     "metadata": {},
     "output_type": "execute_result"
    }
   ],
   "source": [
    "# Fit the grid search estimator to the training data\n",
    "grid_search.fit(X_train, y_train)"
   ]
  },
  {
   "cell_type": "code",
   "execution_count": 57,
   "metadata": {},
   "outputs": [
    {
     "name": "stdout",
     "output_type": "stream",
     "text": [
      "Best hyperparameters:\n",
      " {'max_depth': 7, 'max_features': 4, 'min_samples_leaf': 0.001, 'min_samples_split': 0.05, 'n_estimators': 50}\n"
     ]
    }
   ],
   "source": [
    "# Best parameters:\n",
    "best_hyperparams = grid_search.best_params_\n",
    "print('Best hyperparameters:\\n', best_hyperparams)"
   ]
  },
  {
   "cell_type": "code",
   "execution_count": 58,
   "metadata": {},
   "outputs": [
    {
     "name": "stdout",
     "output_type": "stream",
     "text": [
      "Best score: 0.7973875037783928\n"
     ]
    }
   ],
   "source": [
    "# Best score (AUC):\n",
    "best_score = grid_search.best_score_\n",
    "print('Best score:', best_score)"
   ]
  },
  {
   "cell_type": "code",
   "execution_count": 59,
   "metadata": {},
   "outputs": [
    {
     "name": "stdout",
     "output_type": "stream",
     "text": [
      "The random forest's accuracy score on the validation data is 77.67%\n",
      "The random forest's precision score on the validation data is 83.33%\n",
      "The random forest's recall score on the validation data is 86.76%\n"
     ]
    }
   ],
   "source": [
    "# Make predictions on the training set and display accuracy, precision and recall\n",
    "best_forest = RandomForestClassifier(random_state=20, max_depth=7, max_features=4,\\\n",
    "                                    min_samples_leaf=0.001, min_samples_split=0.05, n_estimators=50)\n",
    "\n",
    "best_forest.fit(X_train, y_train)\n",
    "\n",
    "# Make predictions on the validation set and display accuracy, precision and recall. \n",
    "y_pred_val = best_forest.predict(X_val)\n",
    "print(f\"The random forest's accuracy score on the validation data is {accuracy_score(y_val, y_pred_val)*100:.2f}%\")\n",
    "print(f\"The random forest's precision score on the validation data is {precision_score(y_val, y_pred_val, pos_label='good')*100:.2f}%\")\n",
    "print(f\"The random forest's recall score on the validation data is {recall_score(y_val, y_pred_val, pos_label='good')*100:.2f}%\")"
   ]
  },
  {
   "cell_type": "code",
   "execution_count": 60,
   "metadata": {},
   "outputs": [
    {
     "name": "stdout",
     "output_type": "stream",
     "text": [
      "AUC value is 0.7982975365014938\n"
     ]
    },
    {
     "data": {
      "image/png": "[encoded data removed]",
      "text/plain": [
       "<Figure size 432x288 with 1 Axes>"
      ]
     },
     "metadata": {
      "needs_background": "light"
     },
     "output_type": "display_data"
    }
   ],
   "source": [
    "# Using the best model, plot the ROC curve\n",
    "y_val_pred_proba = best_forest.predict_proba(X_val)[:,1]\n",
    "\n",
    "fpr, tpr, _ = roc_curve(y_val, y_val_pred_proba, pos_label=best_forest.classes_[1])\n",
    "roc_display = metrics.RocCurveDisplay(fpr=fpr, tpr=tpr).plot()\n",
    "plt.xlabel(\"False 'Good' Classification Rate\")\n",
    "plt.ylabel(\"True 'Good' Classification Rate\")\n",
    "plt.title(\"Best-scoring Random Forest ROC\")\n",
    "\n",
    "roc_auc = metrics.auc(fpr, tpr)\n",
    "print(f'AUC value is {roc_auc}')"
   ]
  },
  {
   "cell_type": "markdown",
   "metadata": {},
   "source": [
    "The best combination of hyperparameters in the GridSearch improves the previous AUC by only about 1%, but it's still an improvement."
   ]
  },
  {
   "cell_type": "code",
   "execution_count": 61,
   "metadata": {},
   "outputs": [
    {
     "data": {
      "image/png": "[encoded data removed]",
      "text/plain": [
       "<Figure size 432x288 with 1 Axes>"
      ]
     },
     "metadata": {
      "needs_background": "light"
     },
     "output_type": "display_data"
    }
   ],
   "source": [
    "# Feature importances in best model\n",
    "import pandas as pd\n",
    "import matplotlib.pyplot as plt\n",
    "importances = pd.Series(best_forest.feature_importances_, index = X.columns)\n",
    "sorted_importances = importances.sort_values()\n",
    "sorted_importances.plot(kind='barh', color='lightgreen')\n",
    "plt.show()"
   ]
  },
  {
   "cell_type": "markdown",
   "metadata": {},
   "source": [
    "The random forest's feature importances suggest that the most important features for determining a wine's quality are its ABV, sulphates content, and total sulfur dioxide content."
   ]
  },
  {
   "cell_type": "markdown",
   "metadata": {},
   "source": [
    "#### Final model scoring\n",
    "Now that the best hyperparameters have been found for fitting a random forest to this classification problem, we can see how well the model predicts wine quality on the test data."
   ]
  },
  {
   "cell_type": "code",
   "execution_count": 62,
   "metadata": {},
   "outputs": [],
   "source": [
    "# Construct final random forest using best hyperparameters obtained above\n",
    "final_forest = RandomForestClassifier(random_state=20, max_depth=7, max_features=4,\\\n",
    "                                    min_samples_leaf=0.001, min_samples_split=0.05, n_estimators=50)\n",
    "\n",
    "final_forest.fit(X, y)\n",
    "\n",
    "# return the prediction as \"y_pred2\"\n",
    "y_pred2 = final_forest.predict(X_test)"
   ]
  },
  {
   "cell_type": "code",
   "execution_count": 63,
   "metadata": {},
   "outputs": [
    {
     "name": "stdout",
     "output_type": "stream",
     "text": [
      "The random forest's accuracy score on the test data is 75.44%\n",
      "The random forest's precision score on the test data is 74.34%\n",
      "The random forest's recall score on the test data is 80.77%\n"
     ]
    }
   ],
   "source": [
    "# Make predictions on the test set and display accuracy, precision and recall\n",
    "\n",
    "print(f\"The random forest's accuracy score on the test data is {accuracy_score(y_test, y_pred2)*100:.2f}%\")\n",
    "print(f\"The random forest's precision score on the test data is {precision_score(y_test, y_pred2, pos_label='good')*100:.2f}%\")\n",
    "print(f\"The random forest's recall score on the test data is {recall_score(y_test, y_pred2, pos_label='good')*100:.2f}%\")"
   ]
  },
  {
   "cell_type": "code",
   "execution_count": 64,
   "metadata": {},
   "outputs": [
    {
     "name": "stdout",
     "output_type": "stream",
     "text": [
      "AUC value is 0.8012233185662506\n"
     ]
    },
    {
     "data": {
      "image/png": "[encoded data removed]",
      "text/plain": [
       "<Figure size 432x288 with 1 Axes>"
      ]
     },
     "metadata": {
      "needs_background": "light"
     },
     "output_type": "display_data"
    }
   ],
   "source": [
    "# Using the best model, plot the ROC curve\n",
    "from sklearn.metrics import roc_curve, RocCurveDisplay, auc\n",
    "from sklearn import metrics\n",
    "y_test_pred_proba = final_forest.predict_proba(X_test)[:,1]\n",
    "\n",
    "fpr, tpr, _ = roc_curve(y_test, y_test_pred_proba, pos_label=final_forest.classes_[1])\n",
    "roc_display = metrics.RocCurveDisplay(fpr=fpr, tpr=tpr).plot()\n",
    "plt.xlabel(\"False 'Good' Classification Rate\")\n",
    "plt.ylabel(\"True 'Good' Classification Rate\")\n",
    "plt.title(\"Best-scoring Random Forest ROC\")\n",
    "\n",
    "roc_auc = metrics.auc(fpr, tpr)\n",
    "print(f'AUC value is {roc_auc}')"
   ]
  },
  {
   "cell_type": "markdown",
   "metadata": {},
   "source": [
    "Fortunately, our AUC on the test data is the highest we've seen yet, eclipsing the 0.8 mark. "
   ]
  },
  {
   "cell_type": "markdown",
   "metadata": {},
   "source": [
    "Overall, although a wine connoisseur might suggest otherwise, the results in this project positively indicate that a Random Forest can effectively predict the binary quality of a wine from its particular constituents alone. "
   ]
  }
 ],
 "metadata": {
  "kernelspec": {
   "display_name": "Python 3",
   "language": "python",
   "name": "python3"
  },
  "language_info": {
   "codemirror_mode": {
    "name": "ipython",
    "version": 3
   },
   "file_extension": ".py",
   "mimetype": "text/x-python",
   "name": "python",
   "nbconvert_exporter": "python",
   "pygments_lexer": "ipython3",
   "version": "3.8.8"
  }
 },
 "nbformat": 4,
 "nbformat_minor": 4
}
